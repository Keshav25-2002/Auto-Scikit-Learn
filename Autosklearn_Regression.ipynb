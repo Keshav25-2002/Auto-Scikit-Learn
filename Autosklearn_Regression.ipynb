{
  "nbformat": 4,
  "nbformat_minor": 0,
  "metadata": {
    "colab": {
      "provenance": []
    },
    "kernelspec": {
      "name": "python3",
      "display_name": "Python 3"
    },
    "language_info": {
      "name": "python"
    }
  },
  "cells": [
    {
      "cell_type": "code",
      "execution_count": 1,
      "metadata": {
        "colab": {
          "base_uri": "https://localhost:8080/"
        },
        "id": "vOxmbD7klASl",
        "outputId": "50c343db-6694-4189-dff6-5e9fc2e3d8e5"
      },
      "outputs": [
        {
          "output_type": "stream",
          "name": "stdout",
          "text": [
            "Looking in indexes: https://pypi.org/simple, https://us-python.pkg.dev/colab-wheels/public/simple/\n",
            "Requirement already satisfied: auto-sklearn==0.14.7 in /usr/local/lib/python3.8/dist-packages (0.14.7)\n",
            "Requirement already satisfied: scikit-learn<0.25.0,>=0.24.0 in /usr/local/lib/python3.8/dist-packages (from auto-sklearn==0.14.7) (0.24.2)\n",
            "Requirement already satisfied: liac-arff in /usr/local/lib/python3.8/dist-packages (from auto-sklearn==0.14.7) (2.5.0)\n",
            "Requirement already satisfied: scipy>=1.7.0 in /usr/local/lib/python3.8/dist-packages (from auto-sklearn==0.14.7) (1.7.3)\n",
            "Requirement already satisfied: distributed>=2012.12 in /usr/local/lib/python3.8/dist-packages (from auto-sklearn==0.14.7) (2022.2.1)\n",
            "Requirement already satisfied: smac<1.3,>=1.2 in /usr/local/lib/python3.8/dist-packages (from auto-sklearn==0.14.7) (1.2)\n",
            "Requirement already satisfied: setuptools in /usr/local/lib/python3.8/dist-packages (from auto-sklearn==0.14.7) (57.4.0)\n",
            "Requirement already satisfied: dask>=2021.12 in /usr/local/lib/python3.8/dist-packages (from auto-sklearn==0.14.7) (2022.2.1)\n",
            "Requirement already satisfied: distro in /usr/local/lib/python3.8/dist-packages (from auto-sklearn==0.14.7) (1.8.0)\n",
            "Requirement already satisfied: pyyaml in /usr/local/lib/python3.8/dist-packages (from auto-sklearn==0.14.7) (6.0)\n",
            "Requirement already satisfied: typing-extensions in /usr/local/lib/python3.8/dist-packages (from auto-sklearn==0.14.7) (4.5.0)\n",
            "Requirement already satisfied: threadpoolctl in /usr/local/lib/python3.8/dist-packages (from auto-sklearn==0.14.7) (3.1.0)\n",
            "Requirement already satisfied: pynisher<0.7,>=0.6.3 in /usr/local/lib/python3.8/dist-packages (from auto-sklearn==0.14.7) (0.6.4)\n",
            "Requirement already satisfied: ConfigSpace<0.5,>=0.4.21 in /usr/local/lib/python3.8/dist-packages (from auto-sklearn==0.14.7) (0.4.21)\n",
            "Requirement already satisfied: numpy>=1.9.0 in /usr/local/lib/python3.8/dist-packages (from auto-sklearn==0.14.7) (1.21.6)\n",
            "Requirement already satisfied: joblib in /usr/local/lib/python3.8/dist-packages (from auto-sklearn==0.14.7) (1.2.0)\n",
            "Requirement already satisfied: pyrfr<0.9,>=0.8.1 in /usr/local/lib/python3.8/dist-packages (from auto-sklearn==0.14.7) (0.8.3)\n",
            "Requirement already satisfied: pandas>=1.0 in /usr/local/lib/python3.8/dist-packages (from auto-sklearn==0.14.7) (1.3.5)\n",
            "Requirement already satisfied: pyparsing in /usr/local/lib/python3.8/dist-packages (from ConfigSpace<0.5,>=0.4.21->auto-sklearn==0.14.7) (3.0.9)\n",
            "Requirement already satisfied: cython in /usr/local/lib/python3.8/dist-packages (from ConfigSpace<0.5,>=0.4.21->auto-sklearn==0.14.7) (0.29.33)\n",
            "Requirement already satisfied: partd>=0.3.10 in /usr/local/lib/python3.8/dist-packages (from dask>=2021.12->auto-sklearn==0.14.7) (1.3.0)\n",
            "Requirement already satisfied: toolz>=0.8.2 in /usr/local/lib/python3.8/dist-packages (from dask>=2021.12->auto-sklearn==0.14.7) (0.12.0)\n",
            "Requirement already satisfied: fsspec>=0.6.0 in /usr/local/lib/python3.8/dist-packages (from dask>=2021.12->auto-sklearn==0.14.7) (2023.1.0)\n",
            "Requirement already satisfied: cloudpickle>=1.1.1 in /usr/local/lib/python3.8/dist-packages (from dask>=2021.12->auto-sklearn==0.14.7) (2.2.1)\n",
            "Requirement already satisfied: packaging>=20.0 in /usr/local/lib/python3.8/dist-packages (from dask>=2021.12->auto-sklearn==0.14.7) (23.0)\n",
            "Requirement already satisfied: msgpack>=0.6.0 in /usr/local/lib/python3.8/dist-packages (from distributed>=2012.12->auto-sklearn==0.14.7) (1.0.4)\n",
            "Requirement already satisfied: click>=6.6 in /usr/local/lib/python3.8/dist-packages (from distributed>=2012.12->auto-sklearn==0.14.7) (7.1.2)\n",
            "Requirement already satisfied: sortedcontainers!=2.0.0,!=2.0.1 in /usr/local/lib/python3.8/dist-packages (from distributed>=2012.12->auto-sklearn==0.14.7) (2.4.0)\n",
            "Requirement already satisfied: zict>=0.1.3 in /usr/local/lib/python3.8/dist-packages (from distributed>=2012.12->auto-sklearn==0.14.7) (2.2.0)\n",
            "Requirement already satisfied: tblib>=1.6.0 in /usr/local/lib/python3.8/dist-packages (from distributed>=2012.12->auto-sklearn==0.14.7) (1.7.0)\n",
            "Requirement already satisfied: psutil>=5.0 in /usr/local/lib/python3.8/dist-packages (from distributed>=2012.12->auto-sklearn==0.14.7) (5.4.8)\n",
            "Requirement already satisfied: tornado>=6.0.3 in /usr/local/lib/python3.8/dist-packages (from distributed>=2012.12->auto-sklearn==0.14.7) (6.2)\n",
            "Requirement already satisfied: jinja2 in /usr/local/lib/python3.8/dist-packages (from distributed>=2012.12->auto-sklearn==0.14.7) (2.11.3)\n",
            "Requirement already satisfied: python-dateutil>=2.7.3 in /usr/local/lib/python3.8/dist-packages (from pandas>=1.0->auto-sklearn==0.14.7) (2.8.2)\n",
            "Requirement already satisfied: pytz>=2017.3 in /usr/local/lib/python3.8/dist-packages (from pandas>=1.0->auto-sklearn==0.14.7) (2022.7.1)\n",
            "Requirement already satisfied: emcee>=3.0.0 in /usr/local/lib/python3.8/dist-packages (from smac<1.3,>=1.2->auto-sklearn==0.14.7) (3.1.4)\n",
            "Requirement already satisfied: locket in /usr/local/lib/python3.8/dist-packages (from partd>=0.3.10->dask>=2021.12->auto-sklearn==0.14.7) (1.0.0)\n",
            "Requirement already satisfied: six>=1.5 in /usr/local/lib/python3.8/dist-packages (from python-dateutil>=2.7.3->pandas>=1.0->auto-sklearn==0.14.7) (1.15.0)\n",
            "Requirement already satisfied: heapdict in /usr/local/lib/python3.8/dist-packages (from zict>=0.1.3->distributed>=2012.12->auto-sklearn==0.14.7) (1.0.1)\n",
            "Requirement already satisfied: MarkupSafe>=0.23 in /usr/local/lib/python3.8/dist-packages (from jinja2->distributed>=2012.12->auto-sklearn==0.14.7) (2.0.1)\n"
          ]
        }
      ],
      "source": [
        "!pip install auto-sklearn==0.14.7"
      ]
    },
    {
      "cell_type": "code",
      "source": [
        "# example of auto-sklearn for the insurance regression dataset\n",
        "import pandas as pd\n",
        "\n",
        "from pandas import read_csv\n",
        "from sklearn.model_selection import train_test_split\n",
        "from sklearn.metrics import mean_absolute_error\n",
        "from autosklearn.regression import AutoSklearnRegressor\n",
        "from autosklearn.metrics import mean_absolute_error as auto_mean_absolute_error"
      ],
      "metadata": {
        "id": "XackhzCQmSEZ"
      },
      "execution_count": 2,
      "outputs": []
    },
    {
      "cell_type": "markdown",
      "source": [
        "##Loading the dataset"
      ],
      "metadata": {
        "id": "1KBI0RiWmmkL"
      }
    },
    {
      "cell_type": "code",
      "source": [
        "dataframe = pd.read_csv(\"https://raw.githubusercontent.com/Rishav-hub/Auto-sklearn/main/auto-insurance.csv\")"
      ],
      "metadata": {
        "id": "ZWTOIXobmKlT"
      },
      "execution_count": 3,
      "outputs": []
    },
    {
      "cell_type": "code",
      "source": [
        "dataframe"
      ],
      "metadata": {
        "colab": {
          "base_uri": "https://localhost:8080/",
          "height": 423
        },
        "id": "MwSg0l9Bmq5R",
        "outputId": "05608ae9-ec43-4342-b71e-2a5b10a93575"
      },
      "execution_count": 4,
      "outputs": [
        {
          "output_type": "execute_result",
          "data": {
            "text/plain": [
              "    108  392.5\n",
              "0    19   46.2\n",
              "1    13   15.7\n",
              "2   124  422.2\n",
              "3    40  119.4\n",
              "4    57  170.9\n",
              "..  ...    ...\n",
              "57    9   87.4\n",
              "58   31  209.8\n",
              "59   14   95.5\n",
              "60   53  244.6\n",
              "61   26  187.5\n",
              "\n",
              "[62 rows x 2 columns]"
            ],
            "text/html": [
              "\n",
              "  <div id=\"df-ff54b43b-4b17-40ef-ae01-59e76a2cc6a1\">\n",
              "    <div class=\"colab-df-container\">\n",
              "      <div>\n",
              "<style scoped>\n",
              "    .dataframe tbody tr th:only-of-type {\n",
              "        vertical-align: middle;\n",
              "    }\n",
              "\n",
              "    .dataframe tbody tr th {\n",
              "        vertical-align: top;\n",
              "    }\n",
              "\n",
              "    .dataframe thead th {\n",
              "        text-align: right;\n",
              "    }\n",
              "</style>\n",
              "<table border=\"1\" class=\"dataframe\">\n",
              "  <thead>\n",
              "    <tr style=\"text-align: right;\">\n",
              "      <th></th>\n",
              "      <th>108</th>\n",
              "      <th>392.5</th>\n",
              "    </tr>\n",
              "  </thead>\n",
              "  <tbody>\n",
              "    <tr>\n",
              "      <th>0</th>\n",
              "      <td>19</td>\n",
              "      <td>46.2</td>\n",
              "    </tr>\n",
              "    <tr>\n",
              "      <th>1</th>\n",
              "      <td>13</td>\n",
              "      <td>15.7</td>\n",
              "    </tr>\n",
              "    <tr>\n",
              "      <th>2</th>\n",
              "      <td>124</td>\n",
              "      <td>422.2</td>\n",
              "    </tr>\n",
              "    <tr>\n",
              "      <th>3</th>\n",
              "      <td>40</td>\n",
              "      <td>119.4</td>\n",
              "    </tr>\n",
              "    <tr>\n",
              "      <th>4</th>\n",
              "      <td>57</td>\n",
              "      <td>170.9</td>\n",
              "    </tr>\n",
              "    <tr>\n",
              "      <th>...</th>\n",
              "      <td>...</td>\n",
              "      <td>...</td>\n",
              "    </tr>\n",
              "    <tr>\n",
              "      <th>57</th>\n",
              "      <td>9</td>\n",
              "      <td>87.4</td>\n",
              "    </tr>\n",
              "    <tr>\n",
              "      <th>58</th>\n",
              "      <td>31</td>\n",
              "      <td>209.8</td>\n",
              "    </tr>\n",
              "    <tr>\n",
              "      <th>59</th>\n",
              "      <td>14</td>\n",
              "      <td>95.5</td>\n",
              "    </tr>\n",
              "    <tr>\n",
              "      <th>60</th>\n",
              "      <td>53</td>\n",
              "      <td>244.6</td>\n",
              "    </tr>\n",
              "    <tr>\n",
              "      <th>61</th>\n",
              "      <td>26</td>\n",
              "      <td>187.5</td>\n",
              "    </tr>\n",
              "  </tbody>\n",
              "</table>\n",
              "<p>62 rows × 2 columns</p>\n",
              "</div>\n",
              "      <button class=\"colab-df-convert\" onclick=\"convertToInteractive('df-ff54b43b-4b17-40ef-ae01-59e76a2cc6a1')\"\n",
              "              title=\"Convert this dataframe to an interactive table.\"\n",
              "              style=\"display:none;\">\n",
              "        \n",
              "  <svg xmlns=\"http://www.w3.org/2000/svg\" height=\"24px\"viewBox=\"0 0 24 24\"\n",
              "       width=\"24px\">\n",
              "    <path d=\"M0 0h24v24H0V0z\" fill=\"none\"/>\n",
              "    <path d=\"M18.56 5.44l.94 2.06.94-2.06 2.06-.94-2.06-.94-.94-2.06-.94 2.06-2.06.94zm-11 1L8.5 8.5l.94-2.06 2.06-.94-2.06-.94L8.5 2.5l-.94 2.06-2.06.94zm10 10l.94 2.06.94-2.06 2.06-.94-2.06-.94-.94-2.06-.94 2.06-2.06.94z\"/><path d=\"M17.41 7.96l-1.37-1.37c-.4-.4-.92-.59-1.43-.59-.52 0-1.04.2-1.43.59L10.3 9.45l-7.72 7.72c-.78.78-.78 2.05 0 2.83L4 21.41c.39.39.9.59 1.41.59.51 0 1.02-.2 1.41-.59l7.78-7.78 2.81-2.81c.8-.78.8-2.07 0-2.86zM5.41 20L4 18.59l7.72-7.72 1.47 1.35L5.41 20z\"/>\n",
              "  </svg>\n",
              "      </button>\n",
              "      \n",
              "  <style>\n",
              "    .colab-df-container {\n",
              "      display:flex;\n",
              "      flex-wrap:wrap;\n",
              "      gap: 12px;\n",
              "    }\n",
              "\n",
              "    .colab-df-convert {\n",
              "      background-color: #E8F0FE;\n",
              "      border: none;\n",
              "      border-radius: 50%;\n",
              "      cursor: pointer;\n",
              "      display: none;\n",
              "      fill: #1967D2;\n",
              "      height: 32px;\n",
              "      padding: 0 0 0 0;\n",
              "      width: 32px;\n",
              "    }\n",
              "\n",
              "    .colab-df-convert:hover {\n",
              "      background-color: #E2EBFA;\n",
              "      box-shadow: 0px 1px 2px rgba(60, 64, 67, 0.3), 0px 1px 3px 1px rgba(60, 64, 67, 0.15);\n",
              "      fill: #174EA6;\n",
              "    }\n",
              "\n",
              "    [theme=dark] .colab-df-convert {\n",
              "      background-color: #3B4455;\n",
              "      fill: #D2E3FC;\n",
              "    }\n",
              "\n",
              "    [theme=dark] .colab-df-convert:hover {\n",
              "      background-color: #434B5C;\n",
              "      box-shadow: 0px 1px 3px 1px rgba(0, 0, 0, 0.15);\n",
              "      filter: drop-shadow(0px 1px 2px rgba(0, 0, 0, 0.3));\n",
              "      fill: #FFFFFF;\n",
              "    }\n",
              "  </style>\n",
              "\n",
              "      <script>\n",
              "        const buttonEl =\n",
              "          document.querySelector('#df-ff54b43b-4b17-40ef-ae01-59e76a2cc6a1 button.colab-df-convert');\n",
              "        buttonEl.style.display =\n",
              "          google.colab.kernel.accessAllowed ? 'block' : 'none';\n",
              "\n",
              "        async function convertToInteractive(key) {\n",
              "          const element = document.querySelector('#df-ff54b43b-4b17-40ef-ae01-59e76a2cc6a1');\n",
              "          const dataTable =\n",
              "            await google.colab.kernel.invokeFunction('convertToInteractive',\n",
              "                                                     [key], {});\n",
              "          if (!dataTable) return;\n",
              "\n",
              "          const docLinkHtml = 'Like what you see? Visit the ' +\n",
              "            '<a target=\"_blank\" href=https://colab.research.google.com/notebooks/data_table.ipynb>data table notebook</a>'\n",
              "            + ' to learn more about interactive tables.';\n",
              "          element.innerHTML = '';\n",
              "          dataTable['output_type'] = 'display_data';\n",
              "          await google.colab.output.renderOutput(dataTable, element);\n",
              "          const docLink = document.createElement('div');\n",
              "          docLink.innerHTML = docLinkHtml;\n",
              "          element.appendChild(docLink);\n",
              "        }\n",
              "      </script>\n",
              "    </div>\n",
              "  </div>\n",
              "  "
            ]
          },
          "metadata": {},
          "execution_count": 4
        }
      ]
    },
    {
      "cell_type": "code",
      "source": [],
      "metadata": {
        "id": "jvtp1E0amsaK"
      },
      "execution_count": null,
      "outputs": []
    },
    {
      "cell_type": "markdown",
      "source": [
        "##Prepare Data"
      ],
      "metadata": {
        "id": "tE1jkEsJmuBr"
      }
    },
    {
      "cell_type": "code",
      "source": [
        "# split into input and output elements\n",
        "data = dataframe.values\n",
        "X, y = data[:, :-1], data[:, -1]\n",
        "print(X.shape, y.shape)\n",
        "X_train, X_test, y_train, y_test = train_test_split(X, y, test_size=0.33, random_state=1)\n"
      ],
      "metadata": {
        "colab": {
          "base_uri": "https://localhost:8080/"
        },
        "id": "I9g6FQrXmvfA",
        "outputId": "76985fff-8778-4f60-df32-edb248a71a32"
      },
      "execution_count": 5,
      "outputs": [
        {
          "output_type": "stream",
          "name": "stdout",
          "text": [
            "(62, 1) (62,)\n"
          ]
        }
      ]
    },
    {
      "cell_type": "code",
      "source": [],
      "metadata": {
        "id": "Uvh5IZl9mxK2"
      },
      "execution_count": null,
      "outputs": []
    },
    {
      "cell_type": "markdown",
      "source": [
        "##Start the Regressor"
      ],
      "metadata": {
        "id": "JlLJ9PErmzeZ"
      }
    },
    {
      "cell_type": "code",
      "source": [
        "# define search\n",
        "model = AutoSklearnRegressor(time_left_for_this_task=5*60, per_run_time_limit=30, n_jobs=8, scoring_functions= [auto_mean_absolute_error])"
      ],
      "metadata": {
        "id": "XaK-5JlGm1BR"
      },
      "execution_count": 6,
      "outputs": []
    },
    {
      "cell_type": "code",
      "source": [],
      "metadata": {
        "id": "TVSpV1gim6Cz"
      },
      "execution_count": null,
      "outputs": []
    },
    {
      "cell_type": "markdown",
      "source": [
        "##Fit the classifier"
      ],
      "metadata": {
        "id": "a06tXfzVm8nV"
      }
    },
    {
      "cell_type": "code",
      "source": [
        "model.fit(X = X_train, y = y_train)"
      ],
      "metadata": {
        "colab": {
          "base_uri": "https://localhost:8080/"
        },
        "id": "ppg9HBBcm-Er",
        "outputId": "a34a92c0-4d3c-4b63-89d8-0e5205a96056"
      },
      "execution_count": 7,
      "outputs": [
        {
          "output_type": "execute_result",
          "data": {
            "text/plain": [
              "AutoSklearnRegressor(n_jobs=8, per_run_time_limit=30,\n",
              "                     scoring_functions=[mean_absolute_error],\n",
              "                     time_left_for_this_task=300)"
            ]
          },
          "metadata": {},
          "execution_count": 7
        }
      ]
    },
    {
      "cell_type": "code",
      "source": [
        "import joblib\n",
        "joblib.dump(model, 'model.joblib')"
      ],
      "metadata": {
        "colab": {
          "base_uri": "https://localhost:8080/"
        },
        "id": "SRdt6UB2m_kJ",
        "outputId": "667e3985-29ab-4e25-948f-7b64020ec904"
      },
      "execution_count": 8,
      "outputs": [
        {
          "output_type": "execute_result",
          "data": {
            "text/plain": [
              "['model.joblib']"
            ]
          },
          "metadata": {},
          "execution_count": 8
        }
      ]
    },
    {
      "cell_type": "code",
      "source": [],
      "metadata": {
        "id": "60Qe3m9CoNsE"
      },
      "execution_count": null,
      "outputs": []
    },
    {
      "cell_type": "markdown",
      "source": [
        "##Load model & Predict"
      ],
      "metadata": {
        "id": "tCxhoNZEoQpG"
      }
    },
    {
      "cell_type": "code",
      "source": [
        "from sklearn.metrics import accuracy_score\n",
        "import joblib\n",
        "model_ = joblib.load(\"model.joblib\")\n",
        "y_hat = model_.predict(X_test)\n",
        "acc = mean_absolute_error(y_test, y_hat)\n",
        "print(\"MAE: %.3f\" % acc)"
      ],
      "metadata": {
        "colab": {
          "base_uri": "https://localhost:8080/"
        },
        "id": "rT4Pc3NQoSOj",
        "outputId": "b24f6c5c-dc5f-4aff-d20c-1e75ab660d95"
      },
      "execution_count": 10,
      "outputs": [
        {
          "output_type": "stream",
          "name": "stdout",
          "text": [
            "MAE: 34.893\n"
          ]
        }
      ]
    },
    {
      "cell_type": "code",
      "source": [],
      "metadata": {
        "id": "RQzGw9jVoVWG"
      },
      "execution_count": null,
      "outputs": []
    }
  ]
}